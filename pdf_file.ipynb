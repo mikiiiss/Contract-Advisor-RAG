{
 "cells": [
  {
   "cell_type": "code",
   "execution_count": 4,
   "metadata": {},
   "outputs": [],
   "source": [
    "\n",
    "from langchain_community.document_loaders import PyPDFLoader# Directory path\n"
   ]
  },
  {
   "cell_type": "code",
   "execution_count": 7,
   "metadata": {},
   "outputs": [
    {
     "name": "stdout",
     "output_type": "stream",
     "text": [
      "Directory path: data\n",
      "73\n"
     ]
    }
   ],
   "source": [
    "\n",
    "# Directory path\n",
    "directory_path = \"data\"  # Replace with the correct directory path if needed\n",
    "print(\"Directory path:\", directory_path)\n",
    "\n",
    "# Load individual PDF files\n",
    "pdf_files = [\"Raptor_Contract.pdf\"]  # Replace with your PDF file names\n",
    "documents = []\n",
    "for file in pdf_files:\n",
    "    loader = PyPDFLoader(f\"{directory_path}/{file}\")\n",
    "    documents.extend(loader.load())\n",
    "\n",
    "print(len(documents))"
   ]
  },
  {
   "cell_type": "code",
   "execution_count": 12,
   "metadata": {},
   "outputs": [
    {
     "name": "stdout",
     "output_type": "stream",
     "text": [
      "page_content='STOCK\\nPURCHASE\\nAGREEMENT\\nTHIS\\nSTOCK\\nPURCHASE\\nAGREEMENT\\n(this\\n“\\nAgreement\\n”)\\nis\\nmade\\nand\\nentered\\ninto \\nas\\nof\\n[●]\\nby\\nand\\namong\\n[PARENT],\\na\\n[●]\\ncorporation\\n(“\\nParent\\n”)],\\n[BUYER],\\na\\nDelaware \\ncorporation\\nand\\na\\nwholly\\nowned\\nsubsidiary\\nof\\nParent\\n(“\\nBuyer\\n”)\\n1\\n,\\n[TARGET\\nCOMP ANY],\\na \\nDelaware\\ncorporation\\n(the\\n“\\nCompany\\n”),\\neach\\nof\\nthe\\nholders\\nof\\noutstanding\\nshares\\nof\\ncapital \\nstock\\nof\\nthe\\nCompany\\nlisted\\non\\nSchedule I\\nhereto\\n(respectively ,\\nthe\\n“\\nShareholders\\n”\\nor\\nthe \\n“\\nSellers\\n”)\\n2\\n,\\nand\\n[●],\\nin\\n[his/her/its]\\ncapacity\\nas\\nthe\\nSellers’\\nRepresentative.\\n3\\nRECITALS\\nWHEREAS,\\nthe\\nShareholders\\nown\\nall\\nof\\nthe\\noutstanding\\nshares\\nof\\nCommon\\nStock,\\npar \\nvalue\\n$0.01\\nper\\nshare,\\nof\\nthe\\nCompany\\n(such\\ncommon\\nstock\\nbeing\\nreferred\\nto\\nherein\\nas\\nthe \\n“\\nCommon\\nStock\\n”\\nand\\nsuch\\noutstanding\\ncommon\\nshares\\nbeing\\nreferred\\nto\\nherein\\nas\\nthe\\n“\\nCommon \\nShares\\n”)\\nand\\nall\\nof\\nthe\\noutstanding\\nshares\\nof\\nPreferred\\nStock,\\npar\\nvalue\\n$0.01\\nper\\nshare,\\nof\\nthe \\nCompany\\n(such\\npreferred\\nstock\\nbeing\\nreferred\\nto\\nherein\\nas\\nthe\\n“\\nPreferred\\nStock\\n”\\nand\\nsuch \\noutstanding\\npreferred\\nshares\\nbeing\\nreferred\\nto\\nherein\\nas\\nthe\\n“\\nSeries\\nA-1\\nPreferred\\nShares\\n”\\nor \\n“\\nSeries\\nA-2\\nPreferred\\nShares\\n”\\nand,\\ncollectively ,\\nthe\\n“\\nPreferred\\nShares\\n”\\nand,\\ncollectively\\nwith\\nthe \\nCommon\\nShares,\\nthe\\n“\\nShares\\n”);\\nWHEREAS,\\nthe\\nholders\\nof\\noutstanding\\noptions\\nand\\nwarrants\\nto\\npurchase\\ncapital\\nstock\\nof \\nthe\\nCompany\\n(the\\n“\\nOptionholders\\n”\\nand\\n“\\nWarrantholders\\n”,\\nrespectively)\\nown\\nall\\nof\\nthe\\nissued\\nand \\noutstanding\\noptions\\nand\\nwarrants\\nto\\nacquire\\nCommon\\nStock\\n(the\\n“\\nOptions\\n”\\nand\\n“\\nWarrants\\n”, \\nrespectively);\\nWHEREAS,\\nthe\\nShares,\\nOptions\\nand\\nWarrants\\n(collectively ,\\nthe\\n“\\nSecurities\\n”)\\ntogether \\nconstitute\\nall\\nof\\nthe\\noutstanding\\nEquity\\nInterests\\n(as\\ndefined\\nbelow)\\nin\\nthe\\nCompany;\\nWHEREAS,\\nBuyer\\ndesires\\nto\\npurchase\\nfrom\\nthe\\nShareholders,\\nand\\nthe\\nShareholders \\ndesire\\nto\\nsell\\nto\\nBuyer ,\\nat\\nthe\\nClosing\\n(as\\ndefined\\nbelow)\\nall\\nof\\nthe\\nShares\\n4\\nupon\\nthe\\nterms\\nand \\nsubject\\nto\\nthe\\nconditions\\nset\\nforth\\nin\\nthis\\nAgreement;\\nand\\nWHEREAS,\\nthe\\nparties\\nfurther\\ndesire\\nthat\\nall\\nof\\nthe\\nOptions\\nand\\nWarrants\\nbe\\ncancelled\\nat \\nthe\\nClosing\\nand,\\nin\\nconsideration\\nof\\nsuch\\ncancellation,\\nthe\\nholders\\nof\\nVested\\nOptions\\nand \\nWarrants\\nshall\\nreceive\\nthe\\namounts\\nand\\nrights\\nprovided\\nfor\\nherein,\\nall\\nupon\\nthe\\nterms\\nand\\nsubject \\nto\\nthe\\nconditions\\nset\\nforth\\nin\\nthis\\nAgreement.\\n5\\n5\\nNote\\nto\\ndraft\\n:\\nTreatment\\nof\\noptions\\nto\\nbe\\ndiscussed.\\n4\\uf020\\nSellers\\nNTD\\n:\\nTreatment\\nof\\nthe\\noutstanding\\nWarrant\\nshould\\nbe\\nsimilar\\nto\\nthe\\ntreatment\\nof\\na\\nVested\\nOption\\nbut\\nwithout\\nthe\\nportion\\nof\\nthe\\nconsideration\\npayable\\nin\\nParent’s\\nequity\\n(i.e.,\\nto\\nbe\\nterminated\\nin\\nexchange\\nfor\\na\\ncash \\npayment).\\n3\\nNote\\nto\\ndraft:\\nAcquisition\\nstructure\\nis\\nsubject\\nto\\nongoing\\ndiligence\\nand\\nanalysis.\\n2\\nSellers\\nNTD\\n:\\nInclusion\\nof\\noption\\nand\\nwarrant\\nholders\\nas\\nparties\\nto\\nthe\\nAgreement\\nis\\nnot\\nwarranted.\\n(Vested \\noptionholders\\nand\\nwarrantholders\\nwill\\nexecute\\noption\\\\warrants\\ncancellation\\nacknowledgments)\\n1\\nNote\\nto\\ndraft\\n:\\nBuyer\\nentity\\nto\\nbe\\nconfirmed.\\n112923184_5' metadata={'source': 'data/Raptor_Contract.pdf', 'page': 5}\n"
     ]
    }
   ],
   "source": [
    "mdocuments = documents[5]\n",
    "print(mdocuments)"
   ]
  },
  {
   "cell_type": "code",
   "execution_count": null,
   "metadata": {},
   "outputs": [],
   "source": [
    "page_number = 15\n",
    "\n",
    "if len(documents) >= page_number:\n",
    "    page_content = documents[page_number - 1].page_content\n",
    "    paragraphs = page_content.split('\\n\\n')\n",
    "    print(f\"Page {page_number}:\")\n",
    "    for paragraph in paragraphs:\n",
    "        print(paragraph)\n",
    "        print('---')\n",
    "else:\n",
    "    print(f\"Page {page_number} not found.\")"
   ]
  },
  {
   "cell_type": "code",
   "execution_count": 24,
   "metadata": {},
   "outputs": [],
   "source": [
    "from langchain.text_splitter import RecursiveCharacterTextSplitter\n",
    "\n",
    "def split_documents(documents: list):\n",
    "    text_splitter = RecursiveCharacterTextSplitter(\n",
    "        chunk_size=800,\n",
    "        chunk_overlap=80,\n",
    "        length_function=len,\n",
    "        is_separator_regex=False,\n",
    "    )\n",
    "    return text_splitter.split_documents(documents)"
   ]
  },
  {
   "cell_type": "code",
   "execution_count": 26,
   "metadata": {},
   "outputs": [
    {
     "name": "stdout",
     "output_type": "stream",
     "text": [
      "page_content='[R&G\\nDraft\\n12.__.2021]\\nSTOCK\\nPURCHASE\\nAGREEMENT\\nBY\\nAND\\nAMONG\\n[BUYER],\\n[TARGET\\nCOMP ANY],\\nTHE\\nSELLERS\\nLISTED\\nON\\nSCHEDULE\\nI\\nHERET O\\nAND\\nTHE\\nSELLERS’\\nREPRESENT ATIVE\\nNAMED\\nHEREIN\\nDated\\nas\\nof\\n[●]\\n[This\\ndocument\\nis\\nintended\\nsolely\\nto\\nfacilitate\\ndiscussions\\namong\\nthe\\nparties\\nidentified\\nherein. \\nNeither\\nthis\\ndocument\\nnor\\nsuch\\ndiscussions\\nare\\nintended\\nto\\ncreate,\\nnor\\nwill\\neither\\nor\\nboth\\nbe \\ndeemed\\nto\\ncreate,\\na\\nlegally\\nbinding\\nor\\nenforceable\\noffer\\nor\\nagreement\\nof\\nany\\ntype\\nor\\nnature, \\nunless\\nand\\nuntil\\na\\ndefinitive\\nwritten\\nagreement\\nis\\nexecuted\\nand\\ndelivered\\nby\\neach\\nof\\nthe\\nparties \\nhereto.\\nThis\\ndocument\\nshall\\nbe\\nkept\\nconfidential\\npursuant\\nto\\nthe\\nterms\\nof\\nthe\\nConfidentiality \\nAgreement\\nentered\\ninto\\nby\\nthe\\nparties\\nand,\\nif\\napplicable,\\nits\\naffiliates\\nwith\\nrespect\\nto\\nthe\\nsubject \\nmatter\\nhereof.]' metadata={'source': 'data/Raptor_Contract.pdf', 'page': 0}\n"
     ]
    }
   ],
   "source": [
    "ndocuments = documents  # Assign the 'documents' list to 'ndocuments'\n",
    "chunks = split_documents(ndocuments)\n",
    "print(chunks[0])"
   ]
  },
  {
   "cell_type": "code",
   "execution_count": 27,
   "metadata": {},
   "outputs": [],
   "source": []
  }
 ],
 "metadata": {
  "kernelspec": {
   "display_name": ".venv",
   "language": "python",
   "name": "python3"
  },
  "language_info": {
   "codemirror_mode": {
    "name": "ipython",
    "version": 3
   },
   "file_extension": ".py",
   "mimetype": "text/x-python",
   "name": "python",
   "nbconvert_exporter": "python",
   "pygments_lexer": "ipython3",
   "version": "3.8.10"
  }
 },
 "nbformat": 4,
 "nbformat_minor": 2
}
